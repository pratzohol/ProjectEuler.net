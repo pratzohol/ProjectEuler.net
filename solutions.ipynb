{
 "cells": [
  {
   "cell_type": "markdown",
   "metadata": {},
   "source": [
    "## 1. Multiples of 3 or 5"
   ]
  },
  {
   "cell_type": "code",
   "execution_count": 1,
   "metadata": {},
   "outputs": [
    {
     "name": "stdout",
     "output_type": "stream",
     "text": [
      "233168\n"
     ]
    }
   ],
   "source": [
    "ans = 0\n",
    "\n",
    "for i in range(1, 1000):\n",
    "    if i % 3 == 0 or i % 5 == 0:\n",
    "        ans += i\n",
    "\n",
    "print(ans)"
   ]
  },
  {
   "cell_type": "markdown",
   "metadata": {},
   "source": [
    "## 2. Even Fibonacci Numbers"
   ]
  },
  {
   "cell_type": "code",
   "execution_count": 2,
   "metadata": {},
   "outputs": [
    {
     "name": "stdout",
     "output_type": "stream",
     "text": [
      "4613732\n"
     ]
    }
   ],
   "source": [
    "ans = 0\n",
    "\n",
    "f1 = 1\n",
    "f2 = 2\n",
    "\n",
    "M = 4000000\n",
    "\n",
    "while f2 <= M:\n",
    "    if f2 % 2 == 0:\n",
    "        ans += f2\n",
    "    f1, f2 = f2, (f1 + f2)\n",
    "\n",
    "print(ans)"
   ]
  },
  {
   "cell_type": "markdown",
   "metadata": {},
   "source": [
    "## 3. Largest Prime Factor"
   ]
  },
  {
   "cell_type": "markdown",
   "metadata": {},
   "source": [
    "- Add all the divisors of N to a list. \n",
    "- Then, iterate through the sorted list in reverse order and check if the number is prime.\n",
    "- Return the first prime number found."
   ]
  },
  {
   "cell_type": "code",
   "execution_count": 3,
   "metadata": {},
   "outputs": [
    {
     "name": "stdout",
     "output_type": "stream",
     "text": [
      "6857\n"
     ]
    }
   ],
   "source": [
    "N = 600851475143\n",
    "\n",
    "divisors = set()\n",
    "for i in range(2, int(N ** 0.5) + 1):\n",
    "    if N % i == 0:\n",
    "        divisors.add(i)\n",
    "        divisors.add(N // i)\n",
    "\n",
    "divisors = sorted(divisors)\n",
    "\n",
    "for i in reversed(divisors):\n",
    "    is_prime = True\n",
    "    for j in range(2, int(i ** 0.5) + 1):\n",
    "        if i % j == 0:\n",
    "            is_prime = False\n",
    "            break\n",
    "    if is_prime:\n",
    "        print(i)\n",
    "        break"
   ]
  },
  {
   "cell_type": "markdown",
   "metadata": {},
   "source": [
    "## 4. Largest Palindrome Product"
   ]
  },
  {
   "cell_type": "markdown",
   "metadata": {},
   "source": [
    "- the function `three_dig_factors` returns 2 three digit number whose product equals num.\n",
    "- 999 * 999 = 998001, so the largest palindrome product is less than 998001.\n",
    "- num is of the form xyzzyx \n",
    "- We iterate through all palindrome numbers in decreasing order and check if it has 3 digit factors.\n",
    "- When we find the first palindrome number with 3 digit factors, we return it. (since it will be the largest)"
   ]
  },
  {
   "cell_type": "code",
   "execution_count": 4,
   "metadata": {},
   "outputs": [
    {
     "name": "stdout",
     "output_type": "stream",
     "text": [
      "906609\n"
     ]
    }
   ],
   "source": [
    "def three_dig_factors(num):\n",
    "    for i in range(100, 1000):\n",
    "        if num % i == 0 and 100 <= num // i < 1000:\n",
    "            return i, num // i\n",
    "    return None\n",
    "\n",
    "found = False\n",
    "for ch1 in range(9, 0, -1):\n",
    "    for ch2 in range(9, -1, -1):\n",
    "        for ch3 in range(9, -1, -1):\n",
    "            first_half = str(ch1) + str(ch2) + str(ch3)\n",
    "            second_half = str(ch3) + str(ch2) + str(ch1)\n",
    "\n",
    "            num = int(first_half + second_half)\n",
    "            if three_dig_factors(num) is not None:\n",
    "                print(num)\n",
    "                found = True\n",
    "                break\n",
    "        if found:\n",
    "            break\n",
    "    if found:\n",
    "        break"
   ]
  },
  {
   "cell_type": "markdown",
   "metadata": {},
   "source": [
    "## 5. Smallest Multiple"
   ]
  },
  {
   "cell_type": "code",
   "execution_count": 5,
   "metadata": {},
   "outputs": [
    {
     "data": {
      "text/plain": [
       "232792560"
      ]
     },
     "execution_count": 5,
     "metadata": {},
     "output_type": "execute_result"
    }
   ],
   "source": [
    "def gcd(a, b):\n",
    "    while b:\n",
    "        a, b = b, a % b\n",
    "    return a\n",
    "\n",
    "lcm = 6\n",
    "for i in range(4, 21):\n",
    "    lcm = lcm * i // gcd(lcm, i)\n",
    "\n",
    "lcm"
   ]
  },
  {
   "cell_type": "markdown",
   "metadata": {},
   "source": [
    "## 6. Sum Square Difference"
   ]
  },
  {
   "cell_type": "markdown",
   "metadata": {},
   "source": [
    "- $1^2 + 2^2 + ... + n^2 = \\frac{n(n+1)(2n+1)}{6}$\n",
    "- $(1 + 2 + ... + n)^2 = (\\frac{n(n+1)}{2})^2$"
   ]
  },
  {
   "cell_type": "code",
   "execution_count": 6,
   "metadata": {},
   "outputs": [
    {
     "data": {
      "text/plain": [
       "25164150"
      ]
     },
     "execution_count": 6,
     "metadata": {},
     "output_type": "execute_result"
    }
   ],
   "source": [
    "n = 100\n",
    "\n",
    "ans = n * (n + 1) * (n - 1) * (3*n + 2) // 12\n",
    "ans"
   ]
  },
  {
   "cell_type": "markdown",
   "metadata": {},
   "source": [
    "## 7. 10001st Prime"
   ]
  },
  {
   "cell_type": "markdown",
   "metadata": {},
   "source": [
    "- We use the sieve of Eratosthenes to generate all prime numbers upto a certain limit.\n",
    "- We keep track of the number of primes found so far and return the 10001st prime number."
   ]
  },
  {
   "cell_type": "code",
   "execution_count": 7,
   "metadata": {},
   "outputs": [
    {
     "name": "stdout",
     "output_type": "stream",
     "text": [
      "104743\n"
     ]
    }
   ],
   "source": [
    "is_prime = [1] * (10 ** 8)\n",
    "\n",
    "for i in range(2, int(10 ** 4)):\n",
    "    if is_prime[i]:\n",
    "        for j in range(i * i, 10 ** 8, i):\n",
    "            is_prime[j] = 0\n",
    "\n",
    "cnt = 0\n",
    "for i in range(2, 10 ** 8):\n",
    "    if is_prime[i]:\n",
    "        cnt += 1\n",
    "    if cnt == 10001:\n",
    "        print(i)\n",
    "        break"
   ]
  },
  {
   "cell_type": "markdown",
   "metadata": {},
   "source": [
    "## 8. Largest Product in a Series"
   ]
  },
  {
   "cell_type": "code",
   "execution_count": 8,
   "metadata": {},
   "outputs": [
    {
     "data": {
      "text/plain": [
       "23514624000"
      ]
     },
     "execution_count": 8,
     "metadata": {},
     "output_type": "execute_result"
    }
   ],
   "source": [
    "number = f\"\"\"\n",
    "73167176531330624919225119674426574742355349194934\n",
    "96983520312774506326239578318016984801869478851843\n",
    "85861560789112949495459501737958331952853208805511\n",
    "12540698747158523863050715693290963295227443043557\n",
    "66896648950445244523161731856403098711121722383113\n",
    "62229893423380308135336276614282806444486645238749\n",
    "30358907296290491560440772390713810515859307960866\n",
    "70172427121883998797908792274921901699720888093776\n",
    "65727333001053367881220235421809751254540594752243\n",
    "52584907711670556013604839586446706324415722155397\n",
    "53697817977846174064955149290862569321978468622482\n",
    "83972241375657056057490261407972968652414535100474\n",
    "82166370484403199890008895243450658541227588666881\n",
    "16427171479924442928230863465674813919123162824586\n",
    "17866458359124566529476545682848912883142607690042\n",
    "24219022671055626321111109370544217506941658960408\n",
    "07198403850962455444362981230987879927244284909188\n",
    "84580156166097919133875499200524063689912560717606\n",
    "05886116467109405077541002256983155200055935729725\n",
    "71636269561882670428252483600823257530420752963450\"\"\"\n",
    "\n",
    "number = number.strip().replace(\"\\n\", \"\")\n",
    "\n",
    "max_prod = 1\n",
    "for i in range(0, len(number) - 13):\n",
    "    prod = 1\n",
    "    for j in range(i, i + 13):\n",
    "        prod *= int(number[j])\n",
    "    max_prod = max(max_prod, prod)\n",
    "\n",
    "max_prod"
   ]
  },
  {
   "cell_type": "markdown",
   "metadata": {},
   "source": [
    "## 9. Special Pythagorean Triplet"
   ]
  },
  {
   "cell_type": "markdown",
   "metadata": {},
   "source": [
    "- Rearranging the equations, we get $c = 1000 - a - b$\n",
    "- $a^2 + b^2 = (1000 - a - b)^2$ will give that $b = \\frac{1000 * (500 - a)}{(1000 - a)}$"
   ]
  },
  {
   "cell_type": "code",
   "execution_count": 9,
   "metadata": {},
   "outputs": [
    {
     "name": "stdout",
     "output_type": "stream",
     "text": [
      "a = 200\n",
      "b = 375\n",
      "c = 425\n",
      "Answer = 31875000\n"
     ]
    }
   ],
   "source": [
    "for a in range(1, 500):\n",
    "    num = 1000 * (500 - a)\n",
    "    den = (1000 - a)\n",
    "\n",
    "    if num % den == 0:\n",
    "        b = num // den\n",
    "        print(f\"a = {a}\")\n",
    "        print(f\"b = {b}\")\n",
    "\n",
    "        c = int((a ** 2 + b ** 2) ** 0.5)\n",
    "        print(f\"c = {c}\")\n",
    "        print(f\"Answer = {a*b*c}\")\n",
    "        break"
   ]
  },
  {
   "cell_type": "markdown",
   "metadata": {},
   "source": [
    "## 10. Summation of Primes"
   ]
  },
  {
   "cell_type": "code",
   "execution_count": 10,
   "metadata": {},
   "outputs": [
    {
     "data": {
      "text/plain": [
       "142913828922"
      ]
     },
     "execution_count": 10,
     "metadata": {},
     "output_type": "execute_result"
    }
   ],
   "source": [
    "is_prime = [1] * (2000000)\n",
    "\n",
    "for i in range(2, int(2000000 ** 0.5)):\n",
    "    if is_prime[i]:\n",
    "        for j in range(i * i, 2000000, i):\n",
    "            is_prime[j] = 0\n",
    "\n",
    "ans = 0\n",
    "\n",
    "for i in range(2, 2000000):\n",
    "    if is_prime[i]:\n",
    "        ans += i\n",
    "\n",
    "ans"
   ]
  },
  {
   "cell_type": "markdown",
   "metadata": {},
   "source": [
    "## 11. Largest Product in a Grid"
   ]
  },
  {
   "cell_type": "code",
   "execution_count": 11,
   "metadata": {},
   "outputs": [
    {
     "data": {
      "text/plain": [
       "70600674"
      ]
     },
     "execution_count": 11,
     "metadata": {},
     "output_type": "execute_result"
    }
   ],
   "source": [
    "grid = f\"\"\"\n",
    "08 02 22 97 38 15 00 40 00 75 04 05 07 78 52 12 50 77 91 08\n",
    "49 49 99 40 17 81 18 57 60 87 17 40 98 43 69 48 04 56 62 00\n",
    "81 49 31 73 55 79 14 29 93 71 40 67 53 88 30 03 49 13 36 65\n",
    "52 70 95 23 04 60 11 42 69 24 68 56 01 32 56 71 37 02 36 91\n",
    "22 31 16 71 51 67 63 89 41 92 36 54 22 40 40 28 66 33 13 80\n",
    "24 47 32 60 99 03 45 02 44 75 33 53 78 36 84 20 35 17 12 50\n",
    "32 98 81 28 64 23 67 10 26 38 40 67 59 54 70 66 18 38 64 70\n",
    "67 26 20 68 02 62 12 20 95 63 94 39 63 08 40 91 66 49 94 21\n",
    "24 55 58 05 66 73 99 26 97 17 78 78 96 83 14 88 34 89 63 72\n",
    "21 36 23 09 75 00 76 44 20 45 35 14 00 61 33 97 34 31 33 95\n",
    "78 17 53 28 22 75 31 67 15 94 03 80 04 62 16 14 09 53 56 92\n",
    "16 39 05 42 96 35 31 47 55 58 88 24 00 17 54 24 36 29 85 57\n",
    "86 56 00 48 35 71 89 07 05 44 44 37 44 60 21 58 51 54 17 58\n",
    "19 80 81 68 05 94 47 69 28 73 92 13 86 52 17 77 04 89 55 40\n",
    "04 52 08 83 97 35 99 16 07 97 57 32 16 26 26 79 33 27 98 66\n",
    "88 36 68 87 57 62 20 72 03 46 33 67 46 55 12 32 63 93 53 69\n",
    "04 42 16 73 38 25 39 11 24 94 72 18 08 46 29 32 40 62 76 36\n",
    "20 69 36 41 72 30 23 88 34 62 99 69 82 67 59 85 74 04 36 16\n",
    "20 73 35 29 78 31 90 01 74 31 49 71 48 86 81 16 23 57 05 54\n",
    "01 70 54 71 83 51 54 69 16 92 33 48 61 43 52 01 89 19 67 48\"\"\"\n",
    "\n",
    "grid = grid.strip().replace(\"\\n\", \" \").split(\" \")\n",
    "\n",
    "matrix = [[0] * 20 for _ in range(20)]\n",
    "for i in range(20):\n",
    "    for j in range(20):\n",
    "        matrix[i][j] = int(grid[i * 20 + j])\n",
    "\n",
    "max_prod = 1\n",
    "\n",
    "for i in range(20):\n",
    "    for j in range(16):\n",
    "        prod = 1\n",
    "        for k in range(j, j + 4):\n",
    "            prod *= matrix[i][k]\n",
    "        max_prod = max(max_prod, prod)\n",
    "\n",
    "for j in range(20):\n",
    "    for i in range(16):\n",
    "        prod = 1\n",
    "        for k in range(i, i + 4):\n",
    "            prod *= matrix[k][j]\n",
    "        max_prod = max(max_prod, prod)\n",
    "\n",
    "for i in range(20):\n",
    "    for j in range(20):\n",
    "        prod1, prod2, prod3, prod4 = 1, 1, 1, 1\n",
    "        for k in range(4):\n",
    "            if i + k < 20 and j + k < 20:\n",
    "                prod1 *= matrix[i + k][j + k]\n",
    "            if i + k < 20 and j - k >= 0:\n",
    "                prod2 *= matrix[i + k][j - k]\n",
    "            if i - k >= 0 and j + k < 20:\n",
    "                prod3 *= matrix[i - k][j + k]\n",
    "            if i - k >= 0 and j - k >= 0:\n",
    "                prod4 *= matrix[i - k][j - k]\n",
    "\n",
    "        max_prod = max(max_prod, prod1, prod2, prod3, prod4)\n",
    "\n",
    "max_prod"
   ]
  },
  {
   "cell_type": "markdown",
   "metadata": {},
   "source": [
    "## 12. Highly Divisible Triangular Number"
   ]
  },
  {
   "cell_type": "code",
   "execution_count": 12,
   "metadata": {},
   "outputs": [
    {
     "name": "stdout",
     "output_type": "stream",
     "text": [
      "76576500\n"
     ]
    }
   ],
   "source": [
    "def number_divisors(num):\n",
    "    divisors = set()\n",
    "    for i in range(1, int(num ** 0.5) + 1):\n",
    "        if num % i == 0:\n",
    "            divisors.add(i)\n",
    "            divisors.add(num // i)\n",
    "    return len(divisors)\n",
    "\n",
    "\n",
    "for i in range(1, 10 ** 6):\n",
    "    num = i * (i + 1) // 2\n",
    "    num_div = number_divisors(num)\n",
    "\n",
    "    if num_div > 500:\n",
    "        print(num)\n",
    "        break"
   ]
  },
  {
   "cell_type": "markdown",
   "metadata": {},
   "source": [
    "## 13. Large Sum"
   ]
  },
  {
   "cell_type": "code",
   "execution_count": 13,
   "metadata": {},
   "outputs": [
    {
     "data": {
      "text/plain": [
       "'5537376230'"
      ]
     },
     "execution_count": 13,
     "metadata": {},
     "output_type": "execute_result"
    }
   ],
   "source": [
    "numbers = f\"\"\"\n",
    "37107287533902102798797998220837590246510135740250\n",
    "46376937677490009712648124896970078050417018260538\n",
    "74324986199524741059474233309513058123726617309629\n",
    "91942213363574161572522430563301811072406154908250\n",
    "23067588207539346171171980310421047513778063246676\n",
    "89261670696623633820136378418383684178734361726757\n",
    "28112879812849979408065481931592621691275889832738\n",
    "44274228917432520321923589422876796487670272189318\n",
    "47451445736001306439091167216856844588711603153276\n",
    "70386486105843025439939619828917593665686757934951\n",
    "62176457141856560629502157223196586755079324193331\n",
    "64906352462741904929101432445813822663347944758178\n",
    "92575867718337217661963751590579239728245598838407\n",
    "58203565325359399008402633568948830189458628227828\n",
    "80181199384826282014278194139940567587151170094390\n",
    "35398664372827112653829987240784473053190104293586\n",
    "86515506006295864861532075273371959191420517255829\n",
    "71693888707715466499115593487603532921714970056938\n",
    "54370070576826684624621495650076471787294438377604\n",
    "53282654108756828443191190634694037855217779295145\n",
    "36123272525000296071075082563815656710885258350721\n",
    "45876576172410976447339110607218265236877223636045\n",
    "17423706905851860660448207621209813287860733969412\n",
    "81142660418086830619328460811191061556940512689692\n",
    "51934325451728388641918047049293215058642563049483\n",
    "62467221648435076201727918039944693004732956340691\n",
    "15732444386908125794514089057706229429197107928209\n",
    "55037687525678773091862540744969844508330393682126\n",
    "18336384825330154686196124348767681297534375946515\n",
    "80386287592878490201521685554828717201219257766954\n",
    "78182833757993103614740356856449095527097864797581\n",
    "16726320100436897842553539920931837441497806860984\n",
    "48403098129077791799088218795327364475675590848030\n",
    "87086987551392711854517078544161852424320693150332\n",
    "59959406895756536782107074926966537676326235447210\n",
    "69793950679652694742597709739166693763042633987085\n",
    "41052684708299085211399427365734116182760315001271\n",
    "65378607361501080857009149939512557028198746004375\n",
    "35829035317434717326932123578154982629742552737307\n",
    "94953759765105305946966067683156574377167401875275\n",
    "88902802571733229619176668713819931811048770190271\n",
    "25267680276078003013678680992525463401061632866526\n",
    "36270218540497705585629946580636237993140746255962\n",
    "24074486908231174977792365466257246923322810917141\n",
    "91430288197103288597806669760892938638285025333403\n",
    "34413065578016127815921815005561868836468420090470\n",
    "23053081172816430487623791969842487255036638784583\n",
    "11487696932154902810424020138335124462181441773470\n",
    "63783299490636259666498587618221225225512486764533\n",
    "67720186971698544312419572409913959008952310058822\n",
    "95548255300263520781532296796249481641953868218774\n",
    "76085327132285723110424803456124867697064507995236\n",
    "37774242535411291684276865538926205024910326572967\n",
    "23701913275725675285653248258265463092207058596522\n",
    "29798860272258331913126375147341994889534765745501\n",
    "18495701454879288984856827726077713721403798879715\n",
    "38298203783031473527721580348144513491373226651381\n",
    "34829543829199918180278916522431027392251122869539\n",
    "40957953066405232632538044100059654939159879593635\n",
    "29746152185502371307642255121183693803580388584903\n",
    "41698116222072977186158236678424689157993532961922\n",
    "62467957194401269043877107275048102390895523597457\n",
    "23189706772547915061505504953922979530901129967519\n",
    "86188088225875314529584099251203829009407770775672\n",
    "11306739708304724483816533873502340845647058077308\n",
    "82959174767140363198008187129011875491310547126581\n",
    "97623331044818386269515456334926366572897563400500\n",
    "42846280183517070527831839425882145521227251250327\n",
    "55121603546981200581762165212827652751691296897789\n",
    "32238195734329339946437501907836945765883352399886\n",
    "75506164965184775180738168837861091527357929701337\n",
    "62177842752192623401942399639168044983993173312731\n",
    "32924185707147349566916674687634660915035914677504\n",
    "99518671430235219628894890102423325116913619626622\n",
    "73267460800591547471830798392868535206946944540724\n",
    "76841822524674417161514036427982273348055556214818\n",
    "97142617910342598647204516893989422179826088076852\n",
    "87783646182799346313767754307809363333018982642090\n",
    "10848802521674670883215120185883543223812876952786\n",
    "71329612474782464538636993009049310363619763878039\n",
    "62184073572399794223406235393808339651327408011116\n",
    "66627891981488087797941876876144230030984490851411\n",
    "60661826293682836764744779239180335110989069790714\n",
    "85786944089552990653640447425576083659976645795096\n",
    "66024396409905389607120198219976047599490197230297\n",
    "64913982680032973156037120041377903785566085089252\n",
    "16730939319872750275468906903707539413042652315011\n",
    "94809377245048795150954100921645863754710598436791\n",
    "78639167021187492431995700641917969777599028300699\n",
    "15368713711936614952811305876380278410754449733078\n",
    "40789923115535562561142322423255033685442488917353\n",
    "44889911501440648020369068063960672322193204149535\n",
    "41503128880339536053299340368006977710650566631954\n",
    "81234880673210146739058568557934581403627822703280\n",
    "82616570773948327592232845941706525094512325230608\n",
    "22918802058777319719839450180888072429661980811197\n",
    "77158542502016545090413245809786882778948721859617\n",
    "72107838435069186155435662884062257473692284509516\n",
    "20849603980134001723930671666823555245252804609722\n",
    "53503534226472524250874054075591789781264330331690\n",
    "\"\"\"\n",
    "\n",
    "numbers = numbers.strip().split(\"\\n\")\n",
    "\n",
    "def add_numbers(num1, num2):\n",
    "    m, n = len(num1), len(num2)\n",
    "    if m != n:\n",
    "        padding = \"0\" * abs(m-n)\n",
    "        if m > n:\n",
    "            num2 = padding + num2\n",
    "        else:\n",
    "            num1 = padding + num1\n",
    "\n",
    "    N = len(num1)\n",
    "\n",
    "    ans = \"\"\n",
    "    carry = 0\n",
    "    for i in range(N-1, -1, -1):\n",
    "        sum = int(num1[i]) + int(num2[i]) + carry\n",
    "        digit = sum % 10\n",
    "        carry = sum // 10\n",
    "\n",
    "        ans = str(digit) + ans\n",
    "\n",
    "    return str(carry) + ans\n",
    "\n",
    "ans = \"0\"\n",
    "for num in numbers:\n",
    "    ans = add_numbers(ans, num)\n",
    "\n",
    "ans = ans.strip(\"0\")\n",
    "ans[:10]"
   ]
  },
  {
   "cell_type": "markdown",
   "metadata": {},
   "source": [
    "## 14. Longest Collatz Sequence"
   ]
  },
  {
   "cell_type": "code",
   "execution_count": 14,
   "metadata": {},
   "outputs": [
    {
     "data": {
      "text/plain": [
       "837799"
      ]
     },
     "execution_count": 14,
     "metadata": {},
     "output_type": "execute_result"
    }
   ],
   "source": [
    "N = 1000000\n",
    "max_len = 0\n",
    "ans = 0\n",
    "\n",
    "for i in range(1, N):\n",
    "    length = 1\n",
    "    num = i\n",
    "    while num != 1:\n",
    "        if num % 2 == 0:\n",
    "            num = num // 2\n",
    "        else:\n",
    "            num = 3 * num + 1\n",
    "        length += 1\n",
    "\n",
    "    if length > max_len:\n",
    "        max_len = length\n",
    "        ans = i\n",
    "\n",
    "ans"
   ]
  },
  {
   "cell_type": "markdown",
   "metadata": {},
   "source": [
    "## 15. Lattice Paths"
   ]
  },
  {
   "cell_type": "markdown",
   "metadata": {},
   "source": [
    "- The number of paths from the top left corner to the bottom right corner of a grid is given by the binomial coefficient $\\binom{2n}{n}$"
   ]
  },
  {
   "cell_type": "code",
   "execution_count": 15,
   "metadata": {},
   "outputs": [
    {
     "data": {
      "text/plain": [
       "137846528820"
      ]
     },
     "execution_count": 15,
     "metadata": {},
     "output_type": "execute_result"
    }
   ],
   "source": [
    "n = 20\n",
    "ans = 1\n",
    "\n",
    "for i in range(n + 1, 2 * n + 1):\n",
    "    ans *= i\n",
    "for i in range(1, n + 1):\n",
    "    ans //= i\n",
    "\n",
    "ans"
   ]
  },
  {
   "cell_type": "markdown",
   "metadata": {},
   "source": [
    "## 16. Power Digit Sum"
   ]
  },
  {
   "cell_type": "code",
   "execution_count": 16,
   "metadata": {},
   "outputs": [
    {
     "data": {
      "text/plain": [
       "1366"
      ]
     },
     "execution_count": 16,
     "metadata": {},
     "output_type": "execute_result"
    }
   ],
   "source": [
    "num = str(2 ** 1000)\n",
    "ans = sum([int(digit) for digit in num])\n",
    "ans"
   ]
  },
  {
   "cell_type": "markdown",
   "metadata": {},
   "source": [
    "## 17. Number Letter Counts"
   ]
  },
  {
   "cell_type": "code",
   "execution_count": 18,
   "metadata": {},
   "outputs": [
    {
     "name": "stdout",
     "output_type": "stream",
     "text": [
      "Ans =  21124\n"
     ]
    }
   ],
   "source": [
    "first_nine = [\"one\", \"two\", \"three\", \"four\", \"five\", \"six\", \"seven\", \"eight\", \"nine\"]\n",
    "till_twenty = [\"ten\", \"eleven\", \"twelve\", \"thirteen\", \"fourteen\", \"fifteen\", \"sixteen\", \"seventeen\", \"eighteen\", \"nineteen\"]\n",
    "\n",
    "sum_first_nine = sum([len(word) for word in first_nine])\n",
    "sum_till_twenty = sum([len(word) for word in till_twenty])\n",
    "\n",
    "tens = [\"twenty\", \"thirty\", \"forty\", \"fifty\", \"sixty\", \"seventy\", \"eighty\", \"ninety\"]\n",
    "\n",
    "sum_till_hundred = sum([(10 * len(ten) + sum_first_nine) for ten in tens]) + sum_first_nine + sum_till_twenty\n",
    "\n",
    "sum_till_thousand = sum([100 * len(word) + 997 + sum_till_hundred for word in first_nine]) + sum_till_hundred + 11\n",
    "\n",
    "print(\"Ans = \", sum_till_thousand)"
   ]
  },
  {
   "cell_type": "markdown",
   "metadata": {},
   "source": [
    "## 18. Maximum Path Sum I"
   ]
  },
  {
   "cell_type": "markdown",
   "metadata": {},
   "source": [
    "- going from top to bottom, we can store the max path sum at each node.\n",
    "- $maxpath[i][j] = max(maxpath[i - 1][j], maxpath[i - 1][j - 1]) + triangle[i][j]$"
   ]
  },
  {
   "cell_type": "code",
   "execution_count": 42,
   "metadata": {},
   "outputs": [
    {
     "data": {
      "text/plain": [
       "1074"
      ]
     },
     "execution_count": 42,
     "metadata": {},
     "output_type": "execute_result"
    }
   ],
   "source": [
    "triangle = f\"\"\"\n",
    "75\n",
    "95 64\n",
    "17 47 82\n",
    "18 35 87 10\n",
    "20 04 82 47 65\n",
    "19 01 23 75 03 34\n",
    "88 02 77 73 07 63 67\n",
    "99 65 04 28 06 16 70 92\n",
    "41 41 26 56 83 40 80 70 33\n",
    "41 48 72 33 47 32 37 16 94 29\n",
    "53 71 44 65 25 43 91 52 97 51 14\n",
    "70 11 33 28 77 73 17 78 39 68 17 57\n",
    "91 71 52 38 17 14 91 43 58 50 27 29 48\n",
    "63 66 04 68 89 53 67 30 73 16 69 87 40 31\n",
    "04 62 98 27 23 09 70 98 73 93 38 53 60 04 23\n",
    "\"\"\"\n",
    "\n",
    "triangle = triangle.strip().split(\"\\n\")\n",
    "triangle = [list(map(int, row.split(\" \"))) for row in triangle]\n",
    "\n",
    "N = len(triangle)\n",
    "\n",
    "for i in range(1, N):\n",
    "    for j in range(len(triangle[i])):\n",
    "        left = triangle[i-1][j] if j < len(triangle[i-1]) else 0\n",
    "        right = triangle[i-1][j-1] if j - 1 >= 0 else 0\n",
    "        triangle[i][j] += max(left, right)\n",
    "\n",
    "max_path = 0\n",
    "for i in range(N):\n",
    "    max_path = max(max_path, triangle[N-1][i])\n",
    "\n",
    "max_path"
   ]
  },
  {
   "cell_type": "markdown",
   "metadata": {},
   "source": [
    "## 19. Counting Sundays"
   ]
  },
  {
   "cell_type": "code",
   "execution_count": 13,
   "metadata": {},
   "outputs": [
    {
     "data": {
      "text/plain": [
       "171"
      ]
     },
     "execution_count": 13,
     "metadata": {},
     "output_type": "execute_result"
    }
   ],
   "source": [
    "last_year_start = 1 # Monday on 1 Jan, 1900\n",
    "\n",
    "days = [31, 28, 31, 30, 31, 30, 31, 31, 30, 31, 30, 31]\n",
    "\n",
    "def leap_year(year):\n",
    "    if year % 400 == 0:\n",
    "        return 1\n",
    "    if year % 100 == 0:\n",
    "        return 0\n",
    "    if year % 4 == 0:\n",
    "        return 1\n",
    "    return 0\n",
    "\n",
    "ans = 0\n",
    "\n",
    "for year in range(1901, 2001):\n",
    "    if leap_year(year) == 1:\n",
    "        days[1] = 29\n",
    "    else:\n",
    "        days[1] = 28\n",
    "\n",
    "    year_start = (last_year_start + 365 + leap_year(year - 1)) % 7\n",
    "    month_start = year_start\n",
    "\n",
    "    if year_start == 0:\n",
    "        ans += 1\n",
    "\n",
    "    for month in range(11):\n",
    "        month_start = (month_start + days[month]) % 7\n",
    "        if month_start == 0:\n",
    "            ans += 1\n",
    "\n",
    "    last_year_start = year_start\n",
    "\n",
    "ans"
   ]
  },
  {
   "cell_type": "markdown",
   "metadata": {},
   "source": [
    "## 20. Factorial Digit Sum"
   ]
  },
  {
   "cell_type": "code",
   "execution_count": 16,
   "metadata": {},
   "outputs": [
    {
     "data": {
      "text/plain": [
       "648"
      ]
     },
     "execution_count": 16,
     "metadata": {},
     "output_type": "execute_result"
    }
   ],
   "source": [
    "def add_numbers(num1, num2):\n",
    "    m, n = len(num1), len(num2)\n",
    "    if m != n:\n",
    "        padding = \"0\" * abs(m-n)\n",
    "        if m > n:\n",
    "            num2 = padding + num2\n",
    "        else:\n",
    "            num1 = padding + num1\n",
    "\n",
    "    N = len(num1)\n",
    "\n",
    "    ans = \"\"\n",
    "    carry = 0\n",
    "    for i in range(N-1, -1, -1):\n",
    "        sum = int(num1[i]) + int(num2[i]) + carry\n",
    "        digit = sum % 10\n",
    "        carry = sum // 10\n",
    "\n",
    "        ans = str(digit) + ans\n",
    "\n",
    "    return str(carry) + ans\n",
    "\n",
    "def multiply(num1, num2):\n",
    "    m, n = len(num1), len(num2)\n",
    "\n",
    "    ans = \"0\"\n",
    "    for i in range(n - 1, -1, -1):\n",
    "        b_i = int(num2[i])\n",
    "\n",
    "        carry = 0\n",
    "        tmp = \"\"\n",
    "        for j in range(m - 1, -1, -1):\n",
    "            a_j = int(num1[j])\n",
    "            prod = a_j * b_i + carry\n",
    "            digit = prod % 10\n",
    "            carry = prod // 10\n",
    "\n",
    "            tmp = str(digit) + tmp\n",
    "        tmp = str(carry) + tmp\n",
    "\n",
    "        ans = add_numbers(ans, tmp + \"0\" * (n - 1 - i))\n",
    "\n",
    "    return ans\n",
    "\n",
    "ans = \"1\"\n",
    "for i in range(2, 101):\n",
    "    ans = multiply(ans, str(i))\n",
    "\n",
    "ans = sum([int(digit) for digit in ans])\n",
    "ans"
   ]
  },
  {
   "cell_type": "markdown",
   "metadata": {},
   "source": [
    "## 21. Amicable Numbers"
   ]
  },
  {
   "cell_type": "code",
   "execution_count": 17,
   "metadata": {},
   "outputs": [
    {
     "data": {
      "text/plain": [
       "31626"
      ]
     },
     "execution_count": 17,
     "metadata": {},
     "output_type": "execute_result"
    }
   ],
   "source": [
    "def divisors(num):\n",
    "    divisors = set()\n",
    "    for i in range(2, int(num ** 0.5) + 1):\n",
    "        if num % i == 0:\n",
    "            divisors.add(i)\n",
    "            divisors.add(num // i)\n",
    "    return divisors\n",
    "\n",
    "amicable = set()\n",
    "for a in range(4, 10000):\n",
    "    b = sum(divisors(a)) + 1\n",
    "    sum_b = sum(divisors(b)) + 1\n",
    "\n",
    "    if a == sum_b and a != b:\n",
    "        amicable.add(a)\n",
    "        amicable.add(b)\n",
    "\n",
    "ans = sum(amicable)\n",
    "ans"
   ]
  },
  {
   "cell_type": "markdown",
   "metadata": {},
   "source": [
    "## 22. Names Scores"
   ]
  },
  {
   "cell_type": "code",
   "execution_count": 5,
   "metadata": {},
   "outputs": [
    {
     "data": {
      "text/plain": [
       "871198282"
      ]
     },
     "execution_count": 5,
     "metadata": {},
     "output_type": "execute_result"
    }
   ],
   "source": [
    "path = \"data/0022_names.txt\"\n",
    "\n",
    "with open(path, \"r\") as file:\n",
    "    names = file.read().strip().split(\",\")\n",
    "    names = [name.strip('\"') for name in names]\n",
    "\n",
    "names = sorted(names)\n",
    "\n",
    "sum_ = 0\n",
    "for i, name in enumerate(names):\n",
    "    sum_ += sum([ord(ch) - ord('A') + 1 for ch in name]) * (i + 1)\n",
    "\n",
    "sum_"
   ]
  },
  {
   "cell_type": "markdown",
   "metadata": {},
   "source": [
    "## 23. Non-Abundant Sums"
   ]
  },
  {
   "cell_type": "code",
   "execution_count": 11,
   "metadata": {},
   "outputs": [
    {
     "name": "stderr",
     "output_type": "stream",
     "text": [
      "100%|██████████| 28099/28099 [00:22<00:00, 1237.78it/s]\n"
     ]
    },
    {
     "data": {
      "text/plain": [
       "4179871"
      ]
     },
     "execution_count": 11,
     "metadata": {},
     "output_type": "execute_result"
    }
   ],
   "source": [
    "from tqdm import tqdm\n",
    "\n",
    "def divisors(num):\n",
    "    divisors = set()\n",
    "    for i in range(2, int(num ** 0.5) + 1):\n",
    "        if num % i == 0:\n",
    "            divisors.add(i)\n",
    "            divisors.add(num // i)\n",
    "    divisors.add(1)\n",
    "    return divisors\n",
    "\n",
    "abundant_numbers = [12]\n",
    "for i in range(13, 28124):\n",
    "    if sum(divisors(i)) > i:\n",
    "        abundant_numbers.append(i)\n",
    "\n",
    "ans = 23 * 24 // 2\n",
    "for num in tqdm(range(25, 28124)):\n",
    "    found = False\n",
    "    for a in abundant_numbers:\n",
    "        if a > num:\n",
    "            break\n",
    "        target = num - a\n",
    "\n",
    "        l = 0\n",
    "        r = len(abundant_numbers) - 1\n",
    "\n",
    "        while l <= r:\n",
    "            m = (l + r) // 2\n",
    "\n",
    "            if abundant_numbers[m] == target:\n",
    "                found = True\n",
    "                break\n",
    "            elif abundant_numbers[m] < target:\n",
    "                l = m + 1\n",
    "            else:\n",
    "                r = m - 1\n",
    "\n",
    "        if found:\n",
    "            break\n",
    "\n",
    "    if not found:\n",
    "        ans += num\n",
    "\n",
    "ans"
   ]
  },
  {
   "cell_type": "markdown",
   "metadata": {},
   "source": [
    "## 24. Lexicographic Permutations"
   ]
  },
  {
   "cell_type": "code",
   "execution_count": 16,
   "metadata": {},
   "outputs": [
    {
     "data": {
      "text/plain": [
       "'2783915460'"
      ]
     },
     "execution_count": 16,
     "metadata": {},
     "output_type": "execute_result"
    }
   ],
   "source": [
    "numbers = ['0', '1', '2', '3', '4', '5', '6', '7', '8', '9']\n",
    "\n",
    "def permute(numbers):\n",
    "    if len(numbers) == 1:\n",
    "        return numbers\n",
    "\n",
    "    ans = []\n",
    "    for i in range(len(numbers)):\n",
    "        new_numbers = numbers[:i] + numbers[i+1:]\n",
    "        permutations = permute(new_numbers)\n",
    "        for perm in permutations:\n",
    "            ans.append(numbers[i] + perm)\n",
    "\n",
    "    return ans\n",
    "\n",
    "permutations = permute(numbers)\n",
    "permutations[1000000 - 1]"
   ]
  },
  {
   "cell_type": "markdown",
   "metadata": {},
   "source": [
    "## 25. 1000-Digit Fibonacci Number"
   ]
  },
  {
   "cell_type": "code",
   "execution_count": 20,
   "metadata": {},
   "outputs": [
    {
     "data": {
      "text/plain": [
       "4782"
      ]
     },
     "execution_count": 20,
     "metadata": {},
     "output_type": "execute_result"
    }
   ],
   "source": [
    "def add_numbers(num1, num2):\n",
    "    m, n = len(num1), len(num2)\n",
    "    if m != n:\n",
    "        padding = \"0\" * abs(m-n)\n",
    "        if m > n:\n",
    "            num2 = padding + num2\n",
    "        else:\n",
    "            num1 = padding + num1\n",
    "\n",
    "    N = len(num1)\n",
    "\n",
    "    ans = \"\"\n",
    "    carry = 0\n",
    "    for i in range(N-1, -1, -1):\n",
    "        sum = int(num1[i]) + int(num2[i]) + carry\n",
    "        digit = sum % 10\n",
    "        carry = sum // 10\n",
    "\n",
    "        ans = str(digit) + ans\n",
    "\n",
    "    return str(carry) + ans\n",
    "\n",
    "\n",
    "a = \"1\"\n",
    "b = \"1\"\n",
    "idx = 2\n",
    "\n",
    "while len(b) < 1000:\n",
    "    a, b = b, add_numbers(a, b).lstrip(\"0\")\n",
    "    idx += 1\n",
    "\n",
    "idx"
   ]
  },
  {
   "cell_type": "markdown",
   "metadata": {},
   "source": [
    "## 26. Reciprocal Cycles"
   ]
  },
  {
   "cell_type": "code",
   "execution_count": 35,
   "metadata": {},
   "outputs": [
    {
     "data": {
      "text/plain": [
       "983"
      ]
     },
     "execution_count": 35,
     "metadata": {},
     "output_type": "execute_result"
    }
   ],
   "source": [
    "def repeating_cycle(num, den):\n",
    "    reminders = []\n",
    "    rems = None\n",
    "    while rems not in reminders:\n",
    "        reminders.append(rems)\n",
    "        num *= 10\n",
    "        rems = num % den\n",
    "\n",
    "        if rems == 0:\n",
    "            return 0\n",
    "\n",
    "    reminders.pop(0)\n",
    "\n",
    "    idx = reminders.index(rems)\n",
    "    return len(reminders[idx:])\n",
    "\n",
    "max_cycle_len = 6\n",
    "max_d = 7\n",
    "for d in range(11, 1000):\n",
    "    if repeating_cycle(1, d) > max_cycle_len:\n",
    "        max_cycle_len = repeating_cycle(1, d)\n",
    "        max_d = d\n",
    "\n",
    "max_d"
   ]
  },
  {
   "cell_type": "code",
   "execution_count": null,
   "metadata": {},
   "outputs": [],
   "source": []
  }
 ],
 "metadata": {
  "kernelspec": {
   "display_name": "base",
   "language": "python",
   "name": "python3"
  },
  "language_info": {
   "codemirror_mode": {
    "name": "ipython",
    "version": 3
   },
   "file_extension": ".py",
   "mimetype": "text/x-python",
   "name": "python",
   "nbconvert_exporter": "python",
   "pygments_lexer": "ipython3",
   "version": "3.12.3"
  }
 },
 "nbformat": 4,
 "nbformat_minor": 2
}
