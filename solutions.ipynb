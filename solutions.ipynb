{
 "cells": [
  {
   "cell_type": "markdown",
   "metadata": {},
   "source": [
    "## 1. Multiples of 3 or 5"
   ]
  },
  {
   "cell_type": "code",
   "execution_count": 2,
   "metadata": {},
   "outputs": [
    {
     "name": "stdout",
     "output_type": "stream",
     "text": [
      "233168\n"
     ]
    }
   ],
   "source": [
    "ans = 0\n",
    "\n",
    "for i in range(1, 1000):\n",
    "    if i % 3 == 0 or i % 5 == 0:\n",
    "        ans += i\n",
    "\n",
    "print(ans)"
   ]
  },
  {
   "cell_type": "markdown",
   "metadata": {},
   "source": [
    "## 2. Even Fibonacci Numbers"
   ]
  },
  {
   "cell_type": "code",
   "execution_count": 3,
   "metadata": {},
   "outputs": [
    {
     "name": "stdout",
     "output_type": "stream",
     "text": [
      "4613732\n"
     ]
    }
   ],
   "source": [
    "ans = 0\n",
    "\n",
    "f1 = 1\n",
    "f2 = 2\n",
    "\n",
    "M = 4000000\n",
    "\n",
    "while f2 <= M:\n",
    "    if f2 % 2 == 0:\n",
    "        ans += f2\n",
    "    f1, f2 = f2, (f1 + f2)\n",
    "\n",
    "print(ans)"
   ]
  },
  {
   "cell_type": "markdown",
   "metadata": {},
   "source": [
    "## 3. Largest Prime Factor"
   ]
  },
  {
   "cell_type": "markdown",
   "metadata": {},
   "source": [
    "- Add all the divisors of N to a list. \n",
    "- Then, iterate through the sorted list in reverse order and check if the number is prime.\n",
    "- Return the first prime number found."
   ]
  },
  {
   "cell_type": "code",
   "execution_count": 10,
   "metadata": {},
   "outputs": [
    {
     "name": "stdout",
     "output_type": "stream",
     "text": [
      "6857\n"
     ]
    }
   ],
   "source": [
    "N = 600851475143\n",
    "\n",
    "divisors = set()\n",
    "for i in range(2, int(N ** 0.5) + 1):\n",
    "    if N % i == 0:\n",
    "        divisors.add(i)\n",
    "        divisors.add(N // i)\n",
    "\n",
    "divisors = sorted(divisors)\n",
    "\n",
    "for i in reversed(divisors):\n",
    "    is_prime = True\n",
    "    for j in range(2, int(i ** 0.5) + 1):\n",
    "        if i % j == 0:\n",
    "            is_prime = False\n",
    "            break\n",
    "    if is_prime:\n",
    "        print(i)\n",
    "        break"
   ]
  },
  {
   "cell_type": "markdown",
   "metadata": {},
   "source": [
    "## 4. Largest Palindrome Product"
   ]
  },
  {
   "cell_type": "markdown",
   "metadata": {},
   "source": [
    "- the function `three_dig_factors` returns 2 three digit number whose product equals num.\n",
    "- 999 * 999 = 998001, so the largest palindrome product is less than 998001.\n",
    "- num is of the form xyzzyx \n",
    "- We iterate through all palindrome numbers in decreasing order and check if it has 3 digit factors.\n",
    "- When we find the first palindrome number with 3 digit factors, we return it. (since it will be the largest)"
   ]
  },
  {
   "cell_type": "code",
   "execution_count": 26,
   "metadata": {},
   "outputs": [
    {
     "name": "stdout",
     "output_type": "stream",
     "text": [
      "906609\n"
     ]
    }
   ],
   "source": [
    "def three_dig_factors(num):\n",
    "    for i in range(100, 1000):\n",
    "        if num % i == 0 and 100 <= num // i < 1000:\n",
    "            return i, num // i\n",
    "    return None\n",
    "\n",
    "found = False\n",
    "for ch1 in range(9, 0, -1):\n",
    "    for ch2 in range(9, -1, -1):\n",
    "        for ch3 in range(9, -1, -1):\n",
    "            first_half = str(ch1) + str(ch2) + str(ch3)\n",
    "            second_half = str(ch3) + str(ch2) + str(ch1)\n",
    "\n",
    "            num = int(first_half + second_half)\n",
    "            if three_dig_factors(num) is not None:\n",
    "                print(num)\n",
    "                found = True\n",
    "                break\n",
    "        if found:\n",
    "            break\n",
    "    if found:\n",
    "        break"
   ]
  },
  {
   "cell_type": "markdown",
   "metadata": {},
   "source": [
    "## 5. Smallest Multiple"
   ]
  },
  {
   "cell_type": "code",
   "execution_count": 27,
   "metadata": {},
   "outputs": [
    {
     "data": {
      "text/plain": [
       "232792560"
      ]
     },
     "execution_count": 27,
     "metadata": {},
     "output_type": "execute_result"
    }
   ],
   "source": [
    "def gcd(a, b):\n",
    "    while b:\n",
    "        a, b = b, a % b\n",
    "    return a\n",
    "\n",
    "lcm = 6\n",
    "for i in range(4, 21):\n",
    "    lcm = lcm * i // gcd(lcm, i)\n",
    "\n",
    "lcm"
   ]
  },
  {
   "cell_type": "markdown",
   "metadata": {},
   "source": [
    "## 6. Sum Square Difference"
   ]
  },
  {
   "cell_type": "markdown",
   "metadata": {},
   "source": [
    "- $1^2 + 2^2 + ... + n^2 = \\frac{n(n+1)(2n+1)}{6}$\n",
    "- $(1 + 2 + ... + n)^2 = (\\frac{n(n+1)}{2})^2$"
   ]
  },
  {
   "cell_type": "code",
   "execution_count": 29,
   "metadata": {},
   "outputs": [
    {
     "data": {
      "text/plain": [
       "25164150"
      ]
     },
     "execution_count": 29,
     "metadata": {},
     "output_type": "execute_result"
    }
   ],
   "source": [
    "n = 100\n",
    "\n",
    "ans = n * (n + 1) * (n - 1) * (3*n + 2) // 12\n",
    "ans"
   ]
  },
  {
   "cell_type": "markdown",
   "metadata": {},
   "source": [
    "## 7. 10001st Prime"
   ]
  },
  {
   "cell_type": "markdown",
   "metadata": {},
   "source": [
    "- We use the sieve of Eratosthenes to generate all prime numbers upto a certain limit.\n",
    "- We keep track of the number of primes found so far and return the 10001st prime number."
   ]
  },
  {
   "cell_type": "code",
   "execution_count": 3,
   "metadata": {},
   "outputs": [
    {
     "name": "stdout",
     "output_type": "stream",
     "text": [
      "104743\n"
     ]
    }
   ],
   "source": [
    "is_prime = [1] * (10 ** 8)\n",
    "\n",
    "for i in range(2, int(10 ** 4)):\n",
    "    if is_prime[i]:\n",
    "        for j in range(i * i, 10 ** 8, i):\n",
    "            is_prime[j] = 0\n",
    "\n",
    "cnt = 0\n",
    "for i in range(2, 10 ** 8):\n",
    "    if is_prime[i]:\n",
    "        cnt += 1\n",
    "    if cnt == 10001:\n",
    "        print(i)\n",
    "        break"
   ]
  },
  {
   "cell_type": "markdown",
   "metadata": {},
   "source": [
    "## 8. Largest Product in a Series"
   ]
  },
  {
   "cell_type": "code",
   "execution_count": 9,
   "metadata": {},
   "outputs": [
    {
     "data": {
      "text/plain": [
       "23514624000"
      ]
     },
     "execution_count": 9,
     "metadata": {},
     "output_type": "execute_result"
    }
   ],
   "source": [
    "number = f\"\"\"\n",
    "73167176531330624919225119674426574742355349194934\n",
    "96983520312774506326239578318016984801869478851843\n",
    "85861560789112949495459501737958331952853208805511\n",
    "12540698747158523863050715693290963295227443043557\n",
    "66896648950445244523161731856403098711121722383113\n",
    "62229893423380308135336276614282806444486645238749\n",
    "30358907296290491560440772390713810515859307960866\n",
    "70172427121883998797908792274921901699720888093776\n",
    "65727333001053367881220235421809751254540594752243\n",
    "52584907711670556013604839586446706324415722155397\n",
    "53697817977846174064955149290862569321978468622482\n",
    "83972241375657056057490261407972968652414535100474\n",
    "82166370484403199890008895243450658541227588666881\n",
    "16427171479924442928230863465674813919123162824586\n",
    "17866458359124566529476545682848912883142607690042\n",
    "24219022671055626321111109370544217506941658960408\n",
    "07198403850962455444362981230987879927244284909188\n",
    "84580156166097919133875499200524063689912560717606\n",
    "05886116467109405077541002256983155200055935729725\n",
    "71636269561882670428252483600823257530420752963450\"\"\"\n",
    "\n",
    "number = number.strip().replace(\"\\n\", \"\")\n",
    "\n",
    "max_prod = 1\n",
    "for i in range(0, len(number) - 13):\n",
    "    prod = 1\n",
    "    for j in range(i, i + 13):\n",
    "        prod *= int(number[j])\n",
    "    max_prod = max(max_prod, prod)\n",
    "\n",
    "max_prod"
   ]
  },
  {
   "cell_type": "markdown",
   "metadata": {},
   "source": [
    "## 9. Special Pythagorean Triplet"
   ]
  },
  {
   "cell_type": "markdown",
   "metadata": {},
   "source": [
    "- Rearranging the equations, we get $c = 1000 - a - b$\n",
    "- $a^2 + b^2 = (1000 - a - b)^2$ will give that $b = \\frac{1000 * (500 - a)}{(1000 - a)}$"
   ]
  },
  {
   "cell_type": "code",
   "execution_count": 15,
   "metadata": {},
   "outputs": [
    {
     "name": "stdout",
     "output_type": "stream",
     "text": [
      "a = 200\n",
      "b = 375\n",
      "c = 425\n",
      "Answer = 31875000\n"
     ]
    }
   ],
   "source": [
    "for a in range(1, 500):\n",
    "    num = 1000 * (500 - a)\n",
    "    den = (1000 - a)\n",
    "\n",
    "    if num % den == 0:\n",
    "        b = num // den\n",
    "        print(f\"a = {a}\")\n",
    "        print(f\"b = {b}\")\n",
    "\n",
    "        c = int((a ** 2 + b ** 2) ** 0.5)\n",
    "        print(f\"c = {c}\")\n",
    "        print(f\"Answer = {a*b*c}\")\n",
    "        break"
   ]
  },
  {
   "cell_type": "markdown",
   "metadata": {},
   "source": [
    "## 10. Summation of Primes"
   ]
  },
  {
   "cell_type": "code",
   "execution_count": 17,
   "metadata": {},
   "outputs": [
    {
     "data": {
      "text/plain": [
       "142913828922"
      ]
     },
     "execution_count": 17,
     "metadata": {},
     "output_type": "execute_result"
    }
   ],
   "source": [
    "is_prime = [1] * (2000000)\n",
    "\n",
    "for i in range(2, int(2000000 ** 0.5)):\n",
    "    if is_prime[i]:\n",
    "        for j in range(i * i, 2000000, i):\n",
    "            is_prime[j] = 0\n",
    "\n",
    "ans = 0\n",
    "\n",
    "for i in range(2, 2000000):\n",
    "    if is_prime[i]:\n",
    "        ans += i\n",
    "\n",
    "ans"
   ]
  },
  {
   "cell_type": "markdown",
   "metadata": {},
   "source": [
    "## 11. Largest Product in a Grid"
   ]
  },
  {
   "cell_type": "code",
   "execution_count": null,
   "metadata": {},
   "outputs": [],
   "source": []
  }
 ],
 "metadata": {
  "kernelspec": {
   "display_name": "base",
   "language": "python",
   "name": "python3"
  },
  "language_info": {
   "codemirror_mode": {
    "name": "ipython",
    "version": 3
   },
   "file_extension": ".py",
   "mimetype": "text/x-python",
   "name": "python",
   "nbconvert_exporter": "python",
   "pygments_lexer": "ipython3",
   "version": "3.12.3"
  }
 },
 "nbformat": 4,
 "nbformat_minor": 2
}
